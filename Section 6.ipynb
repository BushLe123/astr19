{
 "cells": [
  {
   "cell_type": "code",
   "execution_count": 1,
   "id": "07750a94-06b0-40b4-8a4b-bbb602e061a8",
   "metadata": {},
   "outputs": [],
   "source": [
    "import numpy as np"
   ]
  },
  {
   "cell_type": "markdown",
   "id": "e080e3ef-2849-4d1b-8801-1b5b5f381c87",
   "metadata": {},
   "source": [
    "**define sin**"
   ]
  },
  {
   "cell_type": "code",
   "execution_count": 3,
   "id": "20229506-5a3d-4d30-aa87-46799a45d025",
   "metadata": {},
   "outputs": [],
   "source": [
    "def sin_function(x):\n",
    "     return np.sin(x)"
   ]
  },
  {
   "cell_type": "markdown",
   "id": "d27162c8-3c96-4741-94ca-560c83109020",
   "metadata": {},
   "source": [
    "**define cos**"
   ]
  },
  {
   "cell_type": "code",
   "execution_count": 4,
   "id": "5acf9c85-f7a0-4fb8-83ee-7b2711f0b681",
   "metadata": {},
   "outputs": [],
   "source": [
    "def cos_function(x):\n",
    "     return np.cos(x)"
   ]
  },
  {
   "cell_type": "markdown",
   "id": "920e96ed-ec20-4248-b6ca-97ec5fa0f056",
   "metadata": {},
   "source": [
    "**tabulate sin(x) and cos(x) for values of x between 0 and 2**"
   ]
  },
  {
   "cell_type": "code",
   "execution_count": 5,
   "id": "dc2e6067-1eb3-4e51-b83e-9542f44b7bad",
   "metadata": {},
   "outputs": [],
   "source": [
    "x_values = np.linspace(0, 2, 1000)\n",
    "sin_values = sin_function(x_values)\n",
    "cos_values = cos_function(x_values)"
   ]
  },
  {
   "cell_type": "markdown",
   "id": "00f80bc1-bb38-445f-b68c-cbef387ffee5",
   "metadata": {},
   "source": [
    "**print the first 10 values**"
   ]
  },
  {
   "cell_type": "code",
   "execution_count": 6,
   "id": "f516a8c3-9b3c-44b1-8d5a-e69d9e31cb20",
   "metadata": {},
   "outputs": [
    {
     "name": "stdout",
     "output_type": "stream",
     "text": [
      "  x       |  sin(x)  |  cos(x)  \n",
      "--------------------------------\n",
      "0.0000  |  0.0000  |  1.0000\n",
      "0.0020  |  0.0020  |  1.0000\n",
      "0.0040  |  0.0040  |  1.0000\n",
      "0.0060  |  0.0060  |  1.0000\n",
      "0.0080  |  0.0080  |  1.0000\n",
      "0.0100  |  0.0100  |  0.9999\n",
      "0.0120  |  0.0120  |  0.9999\n",
      "0.0140  |  0.0140  |  0.9999\n",
      "0.0160  |  0.0160  |  0.9999\n",
      "0.0180  |  0.0180  |  0.9998\n"
     ]
    }
   ],
   "source": [
    "print(\"  x       |  sin(x)  |  cos(x)  \")\n",
    "print(\"--------------------------------\")\n",
    "for i in range(10):\n",
    "    print(f\"{x_values[i]:.4f}  |  {sin_values[i]:.4f}  |  {cos_values[i]:.4f}\")"
   ]
  },
  {
   "cell_type": "code",
   "execution_count": null,
   "id": "9b2571ee-8866-4fb5-b75e-902ca07bdb1f",
   "metadata": {},
   "outputs": [],
   "source": []
  }
 ],
 "metadata": {
  "kernelspec": {
   "display_name": "Python 3 (ipykernel)",
   "language": "python",
   "name": "python3"
  },
  "language_info": {
   "codemirror_mode": {
    "name": "ipython",
    "version": 3
   },
   "file_extension": ".py",
   "mimetype": "text/x-python",
   "name": "python",
   "nbconvert_exporter": "python",
   "pygments_lexer": "ipython3",
   "version": "3.12.1"
  }
 },
 "nbformat": 4,
 "nbformat_minor": 5
}
